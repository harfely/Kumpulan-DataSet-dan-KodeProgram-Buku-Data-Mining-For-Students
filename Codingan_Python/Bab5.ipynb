{
 "cells": [
  {
   "cell_type": "code",
   "execution_count": null,
   "metadata": {},
   "outputs": [
    {
     "name": "stdout",
     "output_type": "stream",
     "text": [
      "                 Generalized Linear Model Regression Results                  \n",
      "==============================================================================\n",
      "Dep. Variable:                  Paket   No. Observations:                    5\n",
      "Model:                            GLM   Df Residuals:                        1\n",
      "Model Family:                 Poisson   Df Model:                            3\n",
      "Link Function:                    Log   Scale:                          1.0000\n",
      "Method:                          IRLS   Log-Likelihood:                -11.782\n",
      "Date:                Sun, 23 Feb 2025   Deviance:                     0.026927\n",
      "Time:                        04:46:23   Pearson chi2:                   0.0269\n",
      "No. Iterations:                     4   Pseudo R-squ. (CS):             0.6612\n",
      "Covariance Type:            nonrobust                                         \n",
      "=================================================================================\n",
      "                    coef    std err          z      P>|z|      [0.025      0.975]\n",
      "---------------------------------------------------------------------------------\n",
      "const             0.1171      0.075      1.570      0.116      -0.029       0.263\n",
      "Jam_Kerja         0.2956      0.132      2.234      0.025       0.036       0.555\n",
      "Lokasi           -0.2900      0.378     -0.767      0.443      -1.031       0.451\n",
      "Pelanggan         0.0889      0.162      0.550      0.582      -0.228       0.406\n",
      "Keterlambatan     0.0170      0.139      0.123      0.902      -0.255       0.289\n",
      "=================================================================================\n",
      "Estimasi jumlah paket: 19.562911373467244\n"
     ]
    },
    {
     "name": "stderr",
     "output_type": "stream",
     "text": [
      "c:\\Users\\ASUS\\anaconda3\\envs\\python39\\lib\\site-packages\\statsmodels\\regression\\_tools.py:121: RuntimeWarning: divide by zero encountered in double_scalars\n",
      "  scale = np.dot(wresid, wresid) / df_resid\n"
     ]
    }
   ],
   "source": [
    "import numpy as np\n",
    "import pandas as pd\n",
    "import statsmodels.api as sm\n",
    "\n",
    "# Data\n",
    "data = pd.DataFrame({\n",
    "    \"Paket\": [12, 15, 20, 18, 25],\n",
    "    \"Jam_Kerja\": [8, 9, 10, 9, 11],\n",
    "    \"Lokasi\": [3, 4, 5, 4, 6],\n",
    "    \"Pelanggan\": [10, 12, 15, 14, 18],\n",
    "    \"Keterlambatan\": [1, 0, 2, 1, 0]\n",
    "})\n",
    "\n",
    "# Model regresi Poisson\n",
    "X = data[[\"Jam_Kerja\", \"Lokasi\", \"Pelanggan\", \"Keterlambatan\"]]\n",
    "X = sm.add_constant(X)  # Tambahkan intercept\n",
    "y = data[\"Paket\"]\n",
    "poisson_model = sm.GLM(y, X, family=sm.families.Poisson()).fit()\n",
    "\n",
    "# Hasil Koefisien\n",
    "print(poisson_model.summary())\n",
    "\n",
    "# Prediksi untuk X1=10, X2=5, X3=15, X4=1\n",
    "new_data = pd.DataFrame({\"const\": 1, \"Jam_Kerja\": [10], \"Lokasi\": [5], \"Pelanggan\": [15], \"Keterlambatan\": [1]})\n",
    "predicted_paket = poisson_model.predict(new_data)\n",
    "print(\"Estimasi jumlah paket:\", predicted_paket[0])"
   ]
  },
  {
   "cell_type": "code",
   "execution_count": 2,
   "metadata": {},
   "outputs": [
    {
     "name": "stdout",
     "output_type": "stream",
     "text": [
      "                 Generalized Linear Model Regression Results                  \n",
      "==============================================================================\n",
      "Dep. Variable:                  Klaim   No. Observations:                   30\n",
      "Model:                            GLM   Df Residuals:                       25\n",
      "Model Family:                 Poisson   Df Model:                            4\n",
      "Link Function:                    Log   Scale:                          1.0000\n",
      "Method:                          IRLS   Log-Likelihood:                -45.681\n",
      "Date:                Sun, 23 Feb 2025   Deviance:                       2.9072\n",
      "Time:                        05:07:06   Pearson chi2:                     2.90\n",
      "No. Iterations:                     4   Pseudo R-squ. (CS):             0.7299\n",
      "Covariance Type:            nonrobust                                         \n",
      "==============================================================================\n",
      "                 coef    std err          z      P>|z|      [0.025      0.975]\n",
      "------------------------------------------------------------------------------\n",
      "const          0.2501      0.536      0.467      0.641      -0.800       1.300\n",
      "Kendaraan      0.3572      0.223      1.600      0.110      -0.080       0.795\n",
      "Kecelakaan     0.1595      0.125      1.275      0.202      -0.086       0.405\n",
      "Perjalanan     0.0358      0.094      0.380      0.704      -0.149       0.221\n",
      "Tahun         -0.0484      0.039     -1.230      0.219      -0.126       0.029\n",
      "==============================================================================\n",
      "Estimasi jumlah klaim: 4.500115888338226\n"
     ]
    }
   ],
   "source": [
    "import numpy as np\n",
    "import pandas as pd\n",
    "import statsmodels.api as sm\n",
    "# Data\n",
    "data = pd.DataFrame({\n",
    "    \"Klaim\": [1,2,3,5,2,1,6,4,1,3,7,4,2,3,8,2,4,5,1,3,9,1,3,6,2,1,7,4,1,5],\n",
    "    \"Kendaraan\": [1,2,1,3,2,1,2,3,1,2,3,2,1,2,3,1,2,3,1,2,3,1,2,3,2,1,3,2,1,3],\n",
    "    \"Kecelakaan\": [0,1,2,1,0,1,3,2,0,1,3,2,0,1,4,2,3,1,0,2,5,1,2,3,0,2,4,3,1,2],\n",
    "    \"Perjalanan\": [2,3,1,5,4,2,6,4,3,5,8,7,2,4,9,6,5,7,3,4,10,2,5,7,3,4,8,6,2,7],\n",
    "    \"Tahun\": [5,3,4,2,6,7,1,5,8,4,2,6,10,5,3,8,7,6,12,9,4,15,8,5,11,13,7,9,14,6]\n",
    "})\n",
    "# Model regresi Poisson\n",
    "X = data[[\"Kendaraan\", \"Kecelakaan\", \"Perjalanan\", \"Tahun\"]]\n",
    "X = sm.add_constant(X)  # Tambahkan intercept\n",
    "y = data[\"Klaim\"]\n",
    "poisson_model = sm.GLM(y, X, family=sm.families.Poisson()).fit()\n",
    "# Summary hasil regresi\n",
    "print(poisson_model.summary())\n",
    "# Prediksi untuk pelanggan dengan Kendaraan = 3, Kecelakaan = 2, Perjalanan = 7, Tahun = 8\n",
    "new_data = pd.DataFrame({\"const\": 1, \"Kendaraan\": [3], \"Kecelakaan\": [2], \"Perjalanan\": [7], \"Tahun\": [8]})\n",
    "predicted_klaim = poisson_model.predict(new_data)\n",
    "# Cetak hasil prediksi\n",
    "print(\"Estimasi jumlah klaim:\", predicted_klaim[0])\n"
   ]
  }
 ],
 "metadata": {
  "kernelspec": {
   "display_name": "python39",
   "language": "python",
   "name": "python3"
  },
  "language_info": {
   "codemirror_mode": {
    "name": "ipython",
    "version": 3
   },
   "file_extension": ".py",
   "mimetype": "text/x-python",
   "name": "python",
   "nbconvert_exporter": "python",
   "pygments_lexer": "ipython3",
   "version": "3.9.21"
  }
 },
 "nbformat": 4,
 "nbformat_minor": 2
}
