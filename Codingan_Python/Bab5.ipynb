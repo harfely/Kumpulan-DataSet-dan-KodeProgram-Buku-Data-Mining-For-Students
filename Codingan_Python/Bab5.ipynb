{
 "cells": [
  {
   "cell_type": "code",
   "execution_count": null,
   "metadata": {},
   "outputs": [
    {
     "name": "stdout",
     "output_type": "stream",
     "text": [
      "                 Generalized Linear Model Regression Results                  \n",
      "==============================================================================\n",
      "Dep. Variable:                  Paket   No. Observations:                    5\n",
      "Model:                            GLM   Df Residuals:                        1\n",
      "Model Family:                 Poisson   Df Model:                            3\n",
      "Link Function:                    Log   Scale:                          1.0000\n",
      "Method:                          IRLS   Log-Likelihood:                -11.782\n",
      "Date:                Sun, 23 Feb 2025   Deviance:                     0.026927\n",
      "Time:                        04:46:23   Pearson chi2:                   0.0269\n",
      "No. Iterations:                     4   Pseudo R-squ. (CS):             0.6612\n",
      "Covariance Type:            nonrobust                                         \n",
      "=================================================================================\n",
      "                    coef    std err          z      P>|z|      [0.025      0.975]\n",
      "---------------------------------------------------------------------------------\n",
      "const             0.1171      0.075      1.570      0.116      -0.029       0.263\n",
      "Jam_Kerja         0.2956      0.132      2.234      0.025       0.036       0.555\n",
      "Lokasi           -0.2900      0.378     -0.767      0.443      -1.031       0.451\n",
      "Pelanggan         0.0889      0.162      0.550      0.582      -0.228       0.406\n",
      "Keterlambatan     0.0170      0.139      0.123      0.902      -0.255       0.289\n",
      "=================================================================================\n",
      "Estimasi jumlah paket: 19.562911373467244\n"
     ]
    },
    {
     "name": "stderr",
     "output_type": "stream",
     "text": [
      "c:\\Users\\ASUS\\anaconda3\\envs\\python39\\lib\\site-packages\\statsmodels\\regression\\_tools.py:121: RuntimeWarning: divide by zero encountered in double_scalars\n",
      "  scale = np.dot(wresid, wresid) / df_resid\n"
     ]
    }
   ],
   "source": [
    "import numpy as np\n",
    "import pandas as pd\n",
    "import statsmodels.api as sm\n",
    "\n",
    "# Data\n",
    "data = pd.DataFrame({\n",
    "    \"Paket\": [12, 15, 20, 18, 25],\n",
    "    \"Jam_Kerja\": [8, 9, 10, 9, 11],\n",
    "    \"Lokasi\": [3, 4, 5, 4, 6],\n",
    "    \"Pelanggan\": [10, 12, 15, 14, 18],\n",
    "    \"Keterlambatan\": [1, 0, 2, 1, 0]\n",
    "})\n",
    "\n",
    "# Model regresi Poisson\n",
    "X = data[[\"Jam_Kerja\", \"Lokasi\", \"Pelanggan\", \"Keterlambatan\"]]\n",
    "X = sm.add_constant(X)  # Tambahkan intercept\n",
    "y = data[\"Paket\"]\n",
    "poisson_model = sm.GLM(y, X, family=sm.families.Poisson()).fit()\n",
    "\n",
    "# Hasil Koefisien\n",
    "print(poisson_model.summary())\n",
    "\n",
    "# Prediksi untuk X1=10, X2=5, X3=15, X4=1\n",
    "new_data = pd.DataFrame({\"const\": 1, \"Jam_Kerja\": [10], \"Lokasi\": [5], \"Pelanggan\": [15], \"Keterlambatan\": [1]})\n",
    "predicted_paket = poisson_model.predict(new_data)\n",
    "print(\"Estimasi jumlah paket:\", predicted_paket[0])"
   ]
  }
 ],
 "metadata": {
  "kernelspec": {
   "display_name": "python39",
   "language": "python",
   "name": "python3"
  },
  "language_info": {
   "codemirror_mode": {
    "name": "ipython",
    "version": 3
   },
   "file_extension": ".py",
   "mimetype": "text/x-python",
   "name": "python",
   "nbconvert_exporter": "python",
   "pygments_lexer": "ipython3",
   "version": "3.9.21"
  }
 },
 "nbformat": 4,
 "nbformat_minor": 2
}
