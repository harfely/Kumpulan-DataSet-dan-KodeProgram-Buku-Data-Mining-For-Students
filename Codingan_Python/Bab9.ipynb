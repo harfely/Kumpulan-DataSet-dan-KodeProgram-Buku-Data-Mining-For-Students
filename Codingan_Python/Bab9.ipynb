{
 "cells": [
  {
   "cell_type": "code",
   "execution_count": 1,
   "metadata": {},
   "outputs": [
    {
     "name": "stdout",
     "output_type": "stream",
     "text": [
      "                 Generalized Linear Model Regression Results                  \n",
      "==============================================================================\n",
      "Dep. Variable:                      Y   No. Observations:                   30\n",
      "Model:                            GLM   Df Residuals:                       25\n",
      "Model Family:                 Poisson   Df Model:                            4\n",
      "Link Function:                    Log   Scale:                          1.0000\n",
      "Method:                          IRLS   Log-Likelihood:                -75.291\n",
      "Date:                Sun, 23 Feb 2025   Deviance:                       1.3231\n",
      "Time:                        10:21:16   Pearson chi2:                     1.31\n",
      "No. Iterations:                     4   Pseudo R-squ. (CS):             0.7544\n",
      "Covariance Type:            nonrobust                                         \n",
      "==============================================================================\n",
      "                 coef    std err          z      P>|z|      [0.025      0.975]\n",
      "------------------------------------------------------------------------------\n",
      "Intercept      2.1186      0.350      6.046      0.000       1.432       2.805\n",
      "X1            -0.1066      0.219     -0.487      0.626      -0.535       0.322\n",
      "X2             0.0490      0.082      0.599      0.549      -0.111       0.209\n",
      "X3            -0.0971      0.106     -0.920      0.358      -0.304       0.110\n",
      "X4             0.0481      0.028      1.704      0.088      -0.007       0.103\n",
      "==============================================================================\n",
      "Prediksi jumlah kunjungan pasien: 25.79\n"
     ]
    }
   ],
   "source": [
    "import pandas as pd\n",
    "import statsmodels.api as sm\n",
    "\n",
    "# Data\n",
    "data = {\n",
    "    \"X1\": [3,2,4,3,2,3,4,3,2,3,4,3,2,3,4,3,2,3,4,3,2,3,4,3,2,3,4,3,2,3],\n",
    "    \"X2\": [10,8,12,9,7,10,11,9,8,10,12,9,7,10,11,9,8,10,12,9,7,10,11,9,8,10,12,9,7,11],\n",
    "    \"X3\": [1,0,1,0,1,1,1,0,1,1,1,0,1,1,1,0,1,1,1,0,1,1,1,0,1,1,1,0,1,1],\n",
    "    \"X4\": [20,15,25,18,10,22,27,19,14,20,26,17,12,22,28,18,13,21,27,19,11,22,29,18,13,21,26,19,10,21],\n",
    "    \"Y\": [25,18,30,22,14,26,31,24,17,25,29,21,15,27,32,23,16,26,31,24,14,27,33,23,16,26,30,24,14,26]\n",
    "}\n",
    "\n",
    "df = pd.DataFrame(data)\n",
    "\n",
    "# Menambahkan intercept ke dalam model\n",
    "df[\"Intercept\"] = 1\n",
    "\n",
    "# Model GLM dengan distribusi Poisson\n",
    "model = sm.GLM(df[\"Y\"], df[[\"Intercept\", \"X1\", \"X2\", \"X3\", \"X4\"]], family=sm.families.Poisson()).fit()\n",
    "\n",
    "# Menampilkan ringkasan hasil regresi\n",
    "print(model.summary())\n",
    "\n",
    "# Prediksi untuk hari berikutnya: X1=3, X2=10, X3=1, X4=22\n",
    "new_data = pd.DataFrame({\"Intercept\": [1], \"X1\": [3], \"X2\": [10], \"X3\": [1], \"X4\": [22]})\n",
    "predicted_Y = model.predict(new_data)\n",
    "print(f\"Prediksi jumlah kunjungan pasien: {predicted_Y[0]:.2f}\")\n"
   ]
  }
 ],
 "metadata": {
  "kernelspec": {
   "display_name": "python39",
   "language": "python",
   "name": "python3"
  },
  "language_info": {
   "codemirror_mode": {
    "name": "ipython",
    "version": 3
   },
   "file_extension": ".py",
   "mimetype": "text/x-python",
   "name": "python",
   "nbconvert_exporter": "python",
   "pygments_lexer": "ipython3",
   "version": "3.9.21"
  }
 },
 "nbformat": 4,
 "nbformat_minor": 2
}
