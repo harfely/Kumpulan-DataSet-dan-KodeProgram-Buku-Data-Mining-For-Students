{
 "cells": [
  {
   "cell_type": "code",
   "execution_count": 3,
   "metadata": {},
   "outputs": [],
   "source": [
    "import pandas as pd\n",
    "import numpy as np\n",
    "import statsmodels.api as sm"
   ]
  },
  {
   "cell_type": "code",
   "execution_count": null,
   "metadata": {},
   "outputs": [
    {
     "name": "stdout",
     "output_type": "stream",
     "text": [
      "Warning: Maximum number of iterations has been exceeded.\n",
      "         Current function value: 0.000000\n",
      "         Iterations: 35\n",
      "                           Logit Regression Results                           \n",
      "==============================================================================\n",
      "Dep. Variable:                Membeli   No. Observations:                    5\n",
      "Model:                          Logit   Df Residuals:                        1\n",
      "Method:                           MLE   Df Model:                            3\n",
      "Date:                Sun, 23 Feb 2025   Pseudo R-squ.:                   1.000\n",
      "Time:                        05:30:23   Log-Likelihood:            -8.1130e-09\n",
      "converged:                      False   LL-Null:                       -3.3651\n",
      "Covariance Type:            nonrobust   LLR p-value:                   0.08102\n",
      "===============================================================================\n",
      "                  coef    std err          z      P>|z|      [0.025      0.975]\n",
      "-------------------------------------------------------------------------------\n",
      "const         -55.9066   6.51e+04     -0.001      0.999   -1.28e+05    1.28e+05\n",
      "Usia           -2.9122   1.78e+06  -1.64e-06      1.000   -3.48e+06    3.48e+06\n",
      "Pendapatan     -0.0285   8888.965  -3.21e-06      1.000   -1.74e+04    1.74e+04\n",
      "Waktu_Situs    84.0239   1.36e+05      0.001      1.000   -2.67e+05    2.67e+05\n",
      "===============================================================================\n",
      "\n",
      "Complete Separation: The results show that there iscomplete separation or perfect prediction.\n",
      "In this case the Maximum Likelihood Estimator does not exist and the parameters\n",
      "are not identified.\n",
      "Probabilitas membeli produk: 1.0\n"
     ]
    },
    {
     "name": "stderr",
     "output_type": "stream",
     "text": [
      "c:\\Users\\ASUS\\anaconda3\\envs\\python39\\lib\\site-packages\\statsmodels\\discrete\\discrete_model.py:227: PerfectSeparationWarning: Perfect separation or prediction detected, parameter may not be identified\n",
      "  warnings.warn(msg, category=PerfectSeparationWarning)\n",
      "c:\\Users\\ASUS\\anaconda3\\envs\\python39\\lib\\site-packages\\statsmodels\\discrete\\discrete_model.py:227: PerfectSeparationWarning: Perfect separation or prediction detected, parameter may not be identified\n",
      "  warnings.warn(msg, category=PerfectSeparationWarning)\n",
      "c:\\Users\\ASUS\\anaconda3\\envs\\python39\\lib\\site-packages\\statsmodels\\discrete\\discrete_model.py:227: PerfectSeparationWarning: Perfect separation or prediction detected, parameter may not be identified\n",
      "  warnings.warn(msg, category=PerfectSeparationWarning)\n",
      "c:\\Users\\ASUS\\anaconda3\\envs\\python39\\lib\\site-packages\\statsmodels\\discrete\\discrete_model.py:227: PerfectSeparationWarning: Perfect separation or prediction detected, parameter may not be identified\n",
      "  warnings.warn(msg, category=PerfectSeparationWarning)\n",
      "c:\\Users\\ASUS\\anaconda3\\envs\\python39\\lib\\site-packages\\statsmodels\\discrete\\discrete_model.py:227: PerfectSeparationWarning: Perfect separation or prediction detected, parameter may not be identified\n",
      "  warnings.warn(msg, category=PerfectSeparationWarning)\n",
      "c:\\Users\\ASUS\\anaconda3\\envs\\python39\\lib\\site-packages\\statsmodels\\discrete\\discrete_model.py:227: PerfectSeparationWarning: Perfect separation or prediction detected, parameter may not be identified\n",
      "  warnings.warn(msg, category=PerfectSeparationWarning)\n",
      "c:\\Users\\ASUS\\anaconda3\\envs\\python39\\lib\\site-packages\\statsmodels\\discrete\\discrete_model.py:227: PerfectSeparationWarning: Perfect separation or prediction detected, parameter may not be identified\n",
      "  warnings.warn(msg, category=PerfectSeparationWarning)\n",
      "c:\\Users\\ASUS\\anaconda3\\envs\\python39\\lib\\site-packages\\statsmodels\\discrete\\discrete_model.py:227: PerfectSeparationWarning: Perfect separation or prediction detected, parameter may not be identified\n",
      "  warnings.warn(msg, category=PerfectSeparationWarning)\n",
      "c:\\Users\\ASUS\\anaconda3\\envs\\python39\\lib\\site-packages\\statsmodels\\discrete\\discrete_model.py:227: PerfectSeparationWarning: Perfect separation or prediction detected, parameter may not be identified\n",
      "  warnings.warn(msg, category=PerfectSeparationWarning)\n",
      "c:\\Users\\ASUS\\anaconda3\\envs\\python39\\lib\\site-packages\\statsmodels\\base\\model.py:607: ConvergenceWarning: Maximum Likelihood optimization failed to converge. Check mle_retvals\n",
      "  warnings.warn(\"Maximum Likelihood optimization failed to \"\n"
     ]
    }
   ],
   "source": [
    "import numpy as np\n",
    "import pandas as pd\n",
    "import statsmodels.api as sm\n",
    "# Data pelanggan\n",
    "data = pd.DataFrame({\n",
    "    \"Usia\": [25, 45, 35, 50, 40],\n",
    "    \"Pendapatan\": [5000, 10000, 7000, 12000, 8000],\n",
    "    \"Waktu_Situs\": [3, 6, 4, 7, 5],\n",
    "    \"Membeli\": [0, 1, 0, 1, 1]\n",
    "})\n",
    "# Variabel independen (dengan tambahan konstanta untuk intercept)\n",
    "X = data[[\"Usia\", \"Pendapatan\", \"Waktu_Situs\"]]\n",
    "X = sm.add_constant(X)\n",
    "# Variabel dependen\n",
    "y = data[\"Membeli\"]\n",
    "# Model regresi logistik\n",
    "model = sm.Logit(y, X)\n",
    "result = model.fit()\n",
    "# Cetak ringkasan model\n",
    "print(result.summary())\n",
    "# Prediksi probabilitas untuk Usia=30, Pendapatan=7500, Waktu_Situs=5\n",
    "new_data = pd.DataFrame({\"const\": 1, \"Usia\": [30], \"Pendapatan\": [7500], \"Waktu_Situs\": [5]})\n",
    "prob_pred = result.predict(new_data)\n",
    "print(\"Probabilitas membeli produk:\", prob_pred[0])"
   ]
  },
  {
   "cell_type": "code",
   "execution_count": 6,
   "metadata": {},
   "outputs": [
    {
     "name": "stdout",
     "output_type": "stream",
     "text": [
      "Koefisien regresi logistik (manual): [-3.36086196e+01  2.68562950e-13 -2.24057464e-02  4.48114928e+01]\n",
      "Probabilitas membeli produk: 0.9999999998140878\n"
     ]
    }
   ],
   "source": [
    "import numpy as np\n",
    "\n",
    "# Data\n",
    "X = np.array([\n",
    "    [1, 25, 5000, 3],   # Tambahkan 1 untuk intercept\n",
    "    [1, 45, 10000, 6],\n",
    "    [1, 35, 7000, 4],\n",
    "    [1, 50, 12000, 7],\n",
    "    [1, 40, 8000, 5]\n",
    "])\n",
    "y = np.array([0, 1, 0, 1, 1])  # Label target\n",
    "\n",
    "# Inisialisasi koefisien beta\n",
    "beta = np.zeros(X.shape[1])\n",
    "\n",
    "# Fungsi sigmoid\n",
    "def sigmoid(z):\n",
    "    return 1 / (1 + np.exp(-z))\n",
    "\n",
    "# Metode Newton-Raphson untuk estimasi beta\n",
    "def newton_raphson(X, y, beta, max_iter=10, tol=1e-6):\n",
    "    for _ in range(max_iter):\n",
    "        # Hitung probabilitas prediksi\n",
    "        p = sigmoid(np.dot(X, beta))\n",
    "\n",
    "        # Hitung gradient\n",
    "        g = np.dot(X.T, (y - p))\n",
    "\n",
    "        # Hitung Hessian\n",
    "        W = np.diag(p * (1 - p))  # Matriks diagonal\n",
    "        H = -np.dot(np.dot(X.T, W), X)\n",
    "\n",
    "        # Update beta\n",
    "        beta_new = beta - np.linalg.inv(H).dot(g)\n",
    "\n",
    "        # Cek konvergensi\n",
    "        if np.max(np.abs(beta_new - beta)) < tol:\n",
    "            break\n",
    "\n",
    "        beta = beta_new\n",
    "\n",
    "    return beta\n",
    "\n",
    "# Jalankan estimasi parameter\n",
    "beta_est = newton_raphson(X, y, beta)\n",
    "\n",
    "# Tampilkan hasil\n",
    "print(\"Koefisien regresi logistik (manual):\", beta_est)\n",
    "\n",
    "# Prediksi probabilitas untuk Usia=30, Pendapatan=7500, Waktu di Situs=5\n",
    "X_new = np.array([1, 30, 7500, 5])  # Tambahkan 1 untuk intercept\n",
    "prob = sigmoid(np.dot(X_new, beta_est))\n",
    "print(\"Probabilitas membeli produk:\", prob)\n"
   ]
  }
 ],
 "metadata": {
  "kernelspec": {
   "display_name": "python39",
   "language": "python",
   "name": "python3"
  },
  "language_info": {
   "codemirror_mode": {
    "name": "ipython",
    "version": 3
   },
   "file_extension": ".py",
   "mimetype": "text/x-python",
   "name": "python",
   "nbconvert_exporter": "python",
   "pygments_lexer": "ipython3",
   "version": "3.9.21"
  }
 },
 "nbformat": 4,
 "nbformat_minor": 2
}
